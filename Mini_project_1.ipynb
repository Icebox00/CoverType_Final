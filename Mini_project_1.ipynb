{
  "nbformat": 4,
  "nbformat_minor": 0,
  "metadata": {
    "colab": {
      "provenance": [],
      "toc_visible": true,
      "include_colab_link": true
    },
    "kernelspec": {
      "name": "python3",
      "display_name": "Python 3"
    },
    "language_info": {
      "name": "python"
    }
  },
  "cells": [
    {
      "cell_type": "markdown",
      "metadata": {
        "id": "view-in-github",
        "colab_type": "text"
      },
      "source": [
        "<a href=\"https://colab.research.google.com/github/Icebox00/CoverType_Final/blob/main/Mini_project_1.ipynb\" target=\"_parent\"><img src=\"https://colab.research.google.com/assets/colab-badge.svg\" alt=\"Open In Colab\"/></a>"
      ]
    },
    {
      "cell_type": "markdown",
      "source": [
        "# **Mini-Project 1: Deep Learning with Tensorflow and Optimizers**\n",
        "***Important: Before starting the Mini-Project please copy this notebook into your own google drive by clicking on \"File\" and \"Save a copy in drive\"***\n",
        "\n",
        "---\n",
        "\n",
        "## Welcome to Mini-Projects\n",
        "\n",
        "Welcome to your first mini-project for Deep Learning! These mini-projects (MP) serve as a gear up or extension of one of our major assignments. This MP is meant to prepare you for BERAS, which will release next week. We will go through the following topics:\n",
        "\n",
        "1. Introduction to Tensorflow\n",
        "2. Optimizers\n",
        "\n",
        "---\n",
        "\n",
        "## Introduction to Tensorflow\n",
        "\n",
        "In this mini-project, we will be introducing [TensorFlow](http://tensorflow.org/), a tried and true library for developing, and evaluating deep neural network models. As a quick motivator, let's at organize what we're going to talk about:\n",
        "\n",
        "### Here are some of the things **Tensorflow** offers:\n",
        "- Object classes with build-in auto-diff tracking and associated workflows.\n",
        "- Lots of already-implemented math modules (i.e. `tf.nn`, `tf.math`).\n",
        "- Nice built-in datasets and some other things...\n",
        "\n",
        "### Here are some of the things **Keras** offers:\n",
        "- Pre-built network components and structures to make life easier!\n",
        "  - Pre-build and customizable network modules like entire layers/networks.\n",
        "  - Modularized implementations of loss, accuracy, optimizers, etc.\n",
        "  - Workflows to facilitate all of these!!\n",
        "\n",
        "### Here are some nice benefits of knowing these:\n",
        "- Extremely easy to prototype entire neural networks.\n",
        "- LARGE amount of existing implementations and tutorials for getting to the cutting edge.\n",
        "\n",
        "We are mainly focused on showing you all how to use Tensorflow and will leave the Keras material as extra content for you to look at if you are interested.\n",
        "\n",
        "Now, let's get started. Run the following code to make sure tensorflow is installed and usable. You should see the tensorflow version is 2.17, we will be using 2.15 for most of this course but colab defaults to the newest release."
      ],
      "metadata": {
        "id": "dB-a3rs6gpa1"
      }
    },
    {
      "cell_type": "code",
      "execution_count": null,
      "metadata": {
        "id": "fLLwl4c7giE0"
      },
      "outputs": [],
      "source": [
        "import numpy as np\n",
        "import tensorflow as tf\n",
        "import matplotlib\n",
        "import matplotlib.pyplot as plt\n",
        "print(tf.__version__)"
      ]
    },
    {
      "cell_type": "markdown",
      "metadata": {
        "id": "CQP2CdcGlfoH"
      },
      "source": [
        "# TensorFlow 101 - The Basics ##\n",
        "\n",
        "Writing code in TensorFlow 2 is similar to writing code in Python. With eager execution (enabled in TensorFlow 2 by default), operations are evaluated immediately in an imperative programming environment. This makes operations return concrete values and makes things easier to debug, essentially what Python is doing.\n"
      ]
    },
    {
      "cell_type": "markdown",
      "metadata": {
        "id": "QnfH9LhWoaYa"
      },
      "source": [
        "### Here are some of the things **Tensorflow** offers:\n",
        "- Object classes with build-in auto-diff tracking and associated workflows.\n",
        "- Lots of already-implemented math modules (i.e. `tf.nn`, `tf.math`).\n",
        "- Nice built-in datasets and some other things..."
      ]
    },
    {
      "cell_type": "markdown",
      "metadata": {
        "id": "J6Cgs0--m0ND"
      },
      "source": [
        "###Tensors###\n",
        "A `Tensor` in TensorFlow is an object that represent a vector or matrix. They are effectively represented as a n-dimensional array and they have two properties: a shape and a data type (float32, int32, or string, for example). They are (kind of) like `np.arrays` but are immutable - you cannot update the contents of an existing tensor.\n",
        "\n",
        "Consider the following example:"
      ]
    },
    {
      "cell_type": "code",
      "execution_count": null,
      "metadata": {
        "id": "y-gzMX9SmcF1"
      },
      "outputs": [],
      "source": [
        "x = [[2.]]\n",
        "m = tf.matmul(x, x)\n",
        "print(f\"x = {x}, m = {m}\")\n",
        "print(m)\n"
      ]
    },
    {
      "cell_type": "markdown",
      "metadata": {
        "id": "MPdfc5HNnNS3"
      },
      "source": [
        "A `Tensor` contains the data, the shape, and the data type. As shown below\n",
        "\n",
        "> `tf.Tensor([2. 3. 4.], shape=(3,), dtype=float32)`\n",
        "\n",
        "\n",
        "This `Tensor` has the data `[2., 3., 4.]` with a shape of `(3, )` and the data is of type `float32`. Tensors can have more axes and can be indexed in the same way as you would index a NumPy array. For more detailed information on TensorFlow tensors, visit [this page](https://www.tensorflow.org/guide/tensor).\n",
        "\n",
        "As for actually setting up a model, we need to introduce a few important Tensorflow constructs:"
      ]
    },
    {
      "cell_type": "markdown",
      "metadata": {
        "id": "-o9lIsgDtGVl"
      },
      "source": [
        "###[TODO] Keras and Layers:###\n",
        "\n",
        "A big draw of Tensorflow is its ability to train various components during an optimization routine. This is largely facilitated by the Keras sub-library. Using Keras allows us to quickly create different neural network layers without having to write it all out by hand. Here you can find the documentation for the [Dense layer](https://www.tensorflow.org/api_docs/python/tf/keras/layers/Dense). A Dense layer by itself is known as a perceptron, if we stack multiple of these layers together we get a Multi-Layer Perceptron (MLP).\n",
        "\n",
        "Let's take a look at how we can initialize some of these layers in practice."
      ]
    },
    {
      "cell_type": "code",
      "execution_count": null,
      "metadata": {
        "id": "NSfEACuzwZ0a"
      },
      "outputs": [],
      "source": [
        "# Create a simple Dense layer, units specifies the dimension of the output\n",
        "#  We don't have to specify the input dimension, tensorflow will assume it later\n",
        "layer = tf.keras.layers.Dense(units=100)\n",
        "\n",
        "# Initalize a fake data vector of size (1,50) using tf.random.normal\n",
        "data = ...\n",
        "\n",
        "# Pass the data to the layer, this will simply perform xW + b\n",
        "#    where W are the weights of the layer and b is the bias.\n",
        "output = layer(data)\n",
        "print(output.shape)"
      ]
    },
    {
      "cell_type": "markdown",
      "metadata": {
        "id": "cSUfD745wgOK"
      },
      "source": [
        "\n",
        "```\n",
        "Expected output: (1, 100)\n",
        "```\n",
        "\n",
        "Let's take a moment to break this down, here's what happened step by step.\n",
        "1.   We initialize a Dense layer, and specify that it should have an output dimension of 100.\n",
        "2.   We create a vector, $x$, of data with size 50\n",
        "3.   We pass the vector to our layer\n",
        "  1.  Layer initializes a weight matrix, $W$, so that the multiplication of $xW$ is valid. In this case, $W$ has shape (50,100)\n",
        "  2. Layer initializes a bias vector, $b$, of dimension 100 to add to the output of $xW$\n",
        "  3. Layer computes $xW+b$ and returns output\n",
        "4. We have output of shape (1, 100)\n",
        "\n",
        "We can now pass in matrices to our layer, as long as their shape is (n, 50), we can compute $xW + b$ with no issue. You should think of n as being your batch size when training a model. **However, if we try to use a matrix that has a different size in the second dimension, we will get a shape error.**\n",
        "\n",
        "That's a little hard to imagine so let's see what this looks like."
      ]
    },
    {
      "cell_type": "code",
      "source": [
        "# Create good data using tf.random.normal((n, 50))\n",
        "good_data = ...\n",
        "\n",
        "# pass it to the layer\n",
        "good_output = layer(good_data)\n",
        "print(f\"Good output shape {good_output.shape}\")\n",
        "\n",
        "# Create bad data using tf.random.normal((n,m))\n",
        "bad_data = ...\n",
        "\n",
        "# try to pass it to the layer\n",
        "bad_output = layer(bad_data)\n"
      ],
      "metadata": {
        "id": "VaAp6FrVYMAZ"
      },
      "execution_count": null,
      "outputs": []
    },
    {
      "cell_type": "markdown",
      "source": [
        "Expected Output:\n",
        "```\n",
        "Good output shape (n, 100)\n",
        "ValueError: Input 0 of layer \"dense_...\n",
        "```"
      ],
      "metadata": {
        "id": "DeP-zvYbZXMI"
      }
    },
    {
      "cell_type": "markdown",
      "source": [
        "Finally, we can also use tf.keras.layers.Dense to specify some nice arguments to help make our lives even easier. A couple examples are below."
      ],
      "metadata": {
        "id": "x6qV9HERaIiE"
      }
    },
    {
      "cell_type": "code",
      "source": [
        "# Initialize a layer with ReLU activation.\n",
        "layer_with_relu = tf.keras.layers.Dense(50, activation=\"relu\")\n",
        "\n",
        "# Initialize a layer with a name and softmax activation.\n",
        "# Now when we get an error, tensorflow will give us it's name to help debug.\n",
        "layer_with_name = tf.keras.layers.Dense(10,\n",
        "                                        activation=\"softmax\",\n",
        "                                        name=\"brunos_favorite_layer\")"
      ],
      "metadata": {
        "id": "U1MdzxpRaHym"
      },
      "execution_count": null,
      "outputs": []
    },
    {
      "cell_type": "markdown",
      "metadata": {
        "id": "ZcCN0b7NrlzY"
      },
      "source": [
        "###Gradient Tape:###\n",
        "\n",
        "To compute the gradients with respect to the loss in our model, we need to make use of `tf.GradientTape()`. The purpose of this is to replace the need to specify all of the back-prop functionality.\n",
        "\n",
        "Any tensor computations inside the tape are recorded for use later, and can be used in routines that optimize their values during differentiation/backpropagation."
      ]
    },
    {
      "cell_type": "code",
      "execution_count": null,
      "metadata": {
        "id": "uJovd7wjyLaY"
      },
      "outputs": [],
      "source": [
        "w = tf.Variable([[1.0]])\n",
        "with tf.GradientTape() as tape:\n",
        "  loss = 2*w\n",
        "\n",
        "grad = tape.gradient(loss, w)\n",
        "print(grad)"
      ]
    },
    {
      "cell_type": "markdown",
      "metadata": {
        "id": "7cTgoGmUWgP8"
      },
      "source": [
        "For tips and tricks on automatic differentiation, check out the documentation: https://www.tensorflow.org/guide/autodiff\n"
      ]
    },
    {
      "cell_type": "markdown",
      "metadata": {
        "id": "IEcBnFPSqB5b"
      },
      "source": [
        "#### Purpose of AutoDiff\n",
        "\n",
        "The GradientTape in TensorFlow keeps track of the Tensor computations that occur inside the tape and allow you to access gradients of individual Tensors with respect to computed values.\n",
        "\n",
        "In order to perform automatic differentiation, TensorFlow uses the `GradientTape` to compute the gradient of computation during the forward pass with respect to a set of inputs and records this information onto the \"tape\".\n",
        "\n",
        "Calling `GradientTape.gradient(target, sources)` runs a backward pass along the tape and computes the gradient components of each differentiable unit along the path from `target` to `source`. These are accumulated and, per an optimization relying on the chain rule, combined into the resulting overall gradient.\n",
        "\n",
        "For now, this is all you need to know but fair warning, you will be **implementing GradientTape and the gradient method from scratch in BERAS.** We advise you to spend extra time to make sure you understand what this process of autodifferation is doing since it will be especially useful next week."
      ]
    },
    {
      "cell_type": "markdown",
      "metadata": {
        "id": "dBtc66ayAJ0T"
      },
      "source": [
        "### Optimizers in Tensorflow:###\n",
        "Once we have the gradient computed with the GradientTape, we must update our weights for our model to train. For this we need to use an optimizer. In this class, you can use the Adam Optimizer. This optimizer is pretty standard, but examples of different types of optimizers are as follows:\n",
        "\n",
        "\n",
        "```\n",
        "adam_optimizer     = tf.keras.optimizers.Adam(learning_rate=0.001)\n",
        "sgd_optimizer      = tf.keras.optimizers.SGD(learning_rate=0.01) #Stochastic Gradient Descent\n",
        "adagrad_optimizer  = tf.keras.optimizers.Adagrad(learning_rate=0.001)\n",
        "rms_prop_optimizer = tf.keras.optimizers.RMSprop(learning_rate=0.001)\n",
        "```"
      ]
    },
    {
      "cell_type": "markdown",
      "metadata": {
        "id": "nG12L6wIWr6v"
      },
      "source": [
        "For now, don't worry about the details of how they work. You'll see soon in a future lab!"
      ]
    },
    {
      "cell_type": "markdown",
      "metadata": {
        "id": "UjilAbLe3KKp"
      },
      "source": [
        "\n",
        "\n",
        "## [TODO] Putting it all Together\n",
        "Now let's use everything we've learned to create our first TensorFlow neural network."
      ]
    },
    {
      "cell_type": "markdown",
      "metadata": {
        "id": "ICEnehd5v528"
      },
      "source": [
        "### The Dataset:\n",
        "\n",
        "We will be using your familiar MNIST dataset for this first attempt. We can pull in and pre-process it using TF/Keras's provided dataset library.\n",
        "\n",
        "For loading and pre-processing, we need to:\n",
        " - Pull in the dataset and split it into testing/training sets.\n",
        " - Normalize the input pixels to fall within the range [0, 1]. Generally, this leads to [faster training times](https://towardsdatascience.com/why-data-should-be-normalized-before-training-a-neural-network-c626b7f66c7d).\n",
        " - One-Hot encode the labels. This converts a single-element categorical variable into a list of boolean indicators. Each indicator corresponds to a single category instance, where the corresponding label is the only non-zero value in the set.\n",
        "  - For example, let's say we have a column with values 1 through 5.\n",
        "  The one-hot vector encoding of 4 would be <0,0,0,1,0>, where the 4th column indicates that this category instance is present.\n",
        "  - The reason for this is to remove ordering assumptions. For example, we do not want to treat this as a regression problem since we do not know if transitioning from one category to another makes sense."
      ]
    },
    {
      "cell_type": "markdown",
      "metadata": {
        "id": "pWncctAvo0wa"
      },
      "source": [
        "Finally, we're ready to define and train a network to fit this dataset.\n",
        "\n",
        "We should encapsulate our code in a class so that our code is reusable and well-organized. A very convenient class that we've been given by TensorFlow to inherit from is `tf.keras.Model`.\n",
        "\n",
        "The example that follows is a possible way to inherit from `tf.keras.Model`. It is not necessarily the best way, since the accuracy/loss computations can also be modularized, but we'll get to that.\n",
        "\n",
        "### [TODO] Fill in the question marks below to complete the network:"
      ]
    },
    {
      "cell_type": "code",
      "execution_count": null,
      "metadata": {
        "id": "mS7uL_nnv3u9"
      },
      "outputs": [],
      "source": [
        "# Loading in dataset; split into training (X0,Y0) and testing (X1,Y1)\n",
        "mnist = tf.keras.datasets.mnist\n",
        "(X0, Y0), (X1, Y1) = mnist.load_data()\n",
        "\n",
        "# Normalize inputs and make sure they're float32\n",
        "X0 = (X0 / 255.).astype(np.float32)\n",
        "X1 = (X1 / 255.).astype(np.float32)\n",
        "\n",
        "# Make labels one hot vectors\n",
        "Y0 = tf.one_hot(Y0, 10)\n",
        "Y1 = tf.one_hot(Y1, 10)"
      ]
    },
    {
      "cell_type": "code",
      "execution_count": null,
      "metadata": {
        "id": "DM_Fqz95v8Ww"
      },
      "outputs": [],
      "source": [
        "class Model(tf.keras.Model):\n",
        "\n",
        "  def __init__(self, **kwargs):\n",
        "    \"\"\"\n",
        "    The model class inherits from tf.keras.Model.\n",
        "    It stores the trainable weights as attributes.\n",
        "    \"\"\"\n",
        "    super(Model, self).__init__(**kwargs)\n",
        "\n",
        "    # Initialize your variables (weights) here:\n",
        "    # Think about using the gaussian_initialization example for these variables\n",
        "    # Remember that the input size is 784 and the output size (number of classes) is 10\n",
        "    # input [1, 784] [784,100] = [1, 100]\n",
        "    # [1, 100] + [100] = [100]\n",
        "    # [1, 100] [100, 10] = [1, 10]\n",
        "    # [1, 10] = 10 labels\n",
        "\n",
        "    self.layer1 = ...\n",
        "    self.layer2 = ...\n",
        "\n",
        "  def call(self, inputs):\n",
        "    \"\"\"\n",
        "    Forward pass, predicts labels given an input image using fully connected layers\n",
        "    :return: the probabilites of each label\n",
        "    \"\"\"\n",
        "\n",
        "    layer1Output = ...\n",
        "    layer2Output = ...\n",
        "\n",
        "    # this line isn't necessary but it's helpful to think of the outputs as logits.\n",
        "    logits = layer2Output\n",
        "\n",
        "    return logits\n",
        "\n",
        "  def loss_fn(self, predictions, labels):\n",
        "    \"\"\"\n",
        "    Calculates the model loss\n",
        "    :return: the loss of the model as a tensor\n",
        "    \"\"\"\n",
        "    nll_comps = -labels * tf.math.log(tf.clip_by_value(predictions,1e-10,1.0))\n",
        "    return tf.reduce_mean(tf.reduce_sum(nll_comps, axis=[1]))\n",
        "\n",
        "  def accuracy(self, predictions, labels):\n",
        "    \"\"\"\n",
        "    Calculates the model accuracy\n",
        "    :return: the accuracy of the model as a tensor\n",
        "    \"\"\"\n",
        "    pred_classes = tf.argmax(predictions, 1)\n",
        "    true_classes = tf.argmax(labels, 1)\n",
        "    correct_prediction = tf.equal(pred_classes, true_classes)\n",
        "    return tf.reduce_mean(tf.cast(correct_prediction, tf.float32))\n",
        "\n",
        "## END TODO\n",
        "################################################################################\n",
        "\n",
        "# Instantiate our model\n",
        "model = Model()\n",
        "\n",
        "# Choosing our optimizer\n",
        "optimizer = tf.keras.optimizers.Adam(learning_rate=0.001)\n",
        "\n",
        "# Loop through training steps\n",
        "train_steps = 2000                 ## Uncomment for quick run\n",
        "# train_steps = 5000               ## Uncomment for full run when ready\n",
        "# train_steps = 10000              ## If you need this, maybe your architecture is a bit off?\n",
        "for i in range(train_steps):\n",
        "  image = np.reshape(X0[i], (1,-1))\n",
        "  label = np.reshape(Y0[i], (1,-1))\n",
        "\n",
        "  # Implement backprop:\n",
        "  with tf.GradientTape() as tape:\n",
        "    y_pred = model(image) # this calls the call function conveniently\n",
        "    loss = model.loss_fn(y_pred, label) # this computes the loss\n",
        "\n",
        "    if i % 500 == 0:\n",
        "      train_acc = model.accuracy(model(X0.reshape(-1,784)), Y0)\n",
        "      print(f\"Accuracy on training set after {i} training steps: {train_acc}\")\n",
        "\n",
        "  # The keras Model class has the computed property trainable_variables to conveniently\n",
        "  # return all the trainable variables you'd want to adjust based on the gradients\n",
        "\n",
        "  gradients = tape.gradient(loss, model.trainable_variables)\n",
        "  optimizer.apply_gradients(zip(gradients, model.trainable_variables))\n",
        "\n",
        "print()\n",
        "model.summary()"
      ]
    },
    {
      "cell_type": "markdown",
      "metadata": {
        "id": "MDDiOD8gKsTN"
      },
      "source": [
        "**Note about model.trainable_variables:**\n",
        "In the last 2 lines of the training loop above, we used `model.trainable_variables` to a get a list of all learnable variables in our model (`W1, b1, W2, b2` in this case). This feature was only available because our model subclasses `tf.Keras.Model`. Nevertheless, you can still optimize gradients and do backprop without subclassing `tf.Keras.Model` by passing in a list or array of the model's trainable variables manually like so:\n",
        "\n",
        "```\n",
        "gradients = tape.gradient(loss, [model.W1, model.b1, model.W2, model.b2]))`\n",
        "optimizer.apply_gradients(zip(gradients, [model.W1, model.b1, model.W2, model.b2]))\n",
        "```\n",
        "\n",
        "**Ensure that your training accuracy is at or near 90% before submitting.** It should converge after around 5K, but we'll give you up to 10K.\n",
        "___\n"
      ]
    },
    {
      "cell_type": "markdown",
      "metadata": {
        "id": "hf8FQwjm84M0"
      },
      "source": [
        "# Optimizers ##\n",
        "\n",
        "In this section, we will be covering common optimization algorithms used for training deep learning models. It will take advantage of Tensorflow, which will be the main DL Library you'll be using throughout the course."
      ]
    },
    {
      "cell_type": "markdown",
      "metadata": {
        "id": "FiDkbzPoGKI2"
      },
      "source": [
        "### Optimizing the Rosenbrock function\n",
        "\n",
        "In this lab, we will be testing optimization algorithms on the [Rosenbrock function](https://en.wikipedia.org/wiki/Rosenbrock_function).\n",
        "\n",
        "$$\n",
        "L_{RB}(\\theta_1, \\theta_2) = \\big(a - \\theta_1\\big)^2 + b \\times \\big(\\theta_2 - \\theta_{\\ 1}^{\\ 2}\\big)^2\n",
        "$$\n",
        "\n",
        "In our formulation:\n",
        "- $\\theta$ is the parameters of the loss function, and would be the weights if we were training a neural network. These are the values that the optimizer is allowed to modify while minimizing the loss.\n",
        "- $a$ and $b$ are constants that are specified for the loss function (AKA *loss hyperparameters*).\n",
        "  - You can assume default parameters $(a, b) = (1, 100)$\n",
        "\n",
        "Run the following code to plot a contour plot of this function. The Rosenbrock function features a narrow valley, and has a minimum value at (1, 1) *(marked with a point)*, so you'll be trying to get an optimizer to optimize towards that minimum.\n",
        "\n"
      ]
    },
    {
      "cell_type": "code",
      "metadata": {
        "id": "qPBk4hsGnqJ4"
      },
      "source": [
        "# Define the function we will be optimizing in this lab\n",
        "def rosenbrock(x, y, a=1, b=100):\n",
        "    return (a - x)**2 + b * (y - x**2)**2\n",
        "\n",
        "def plot_contour(visited_x, visited_y, loss_fn=rosenbrock, target=(1,1)):\n",
        "    plt.clf()\n",
        "    x_range = np.arange(-4, 4, .1)\n",
        "    y_range = np.arange(-4, 6, .1)\n",
        "    xx, yy = np.meshgrid(x_range, y_range)\n",
        "    z = np.sqrt(loss_fn(xx, yy))\n",
        "    plt.contourf(x_range, y_range, z, levels=100)\n",
        "    plt.scatter(visited_x, visited_y, c='r')\n",
        "    plt.scatter(target[:1], target[1:], c='y')\n",
        "    plt.show()\n",
        "\n",
        "def optimize(optimizer):\n",
        "    parameters = tf.Variable([-3, -3], dtype=tf.float32)\n",
        "    visited_x = [parameters[0].numpy()]\n",
        "    visited_y = [parameters[1].numpy()]\n",
        "    for i in range(1000):\n",
        "        with tf.GradientTape() as tape:\n",
        "            loss = rosenbrock(parameters[0], parameters[1])\n",
        "        gradients = tape.gradient(loss, [parameters])[0]\n",
        "        optimizer.apply_gradients([(gradients, parameters)])\n",
        "        visited_x += [parameters[0].numpy()]\n",
        "        visited_y += [parameters[1].numpy()]\n",
        "    plot_contour(visited_x, visited_y)\n",
        "    return parameters.numpy()\n"
      ],
      "execution_count": null,
      "outputs": []
    },
    {
      "cell_type": "code",
      "metadata": {
        "id": "8Wh35SjBGLpU"
      },
      "source": [
        "plot_contour([], [])"
      ],
      "execution_count": null,
      "outputs": []
    },
    {
      "cell_type": "markdown",
      "metadata": {
        "id": "YmPzzpmmkGBc"
      },
      "source": [
        "## (Stochastic) Gradient Descent\n",
        "\n",
        "To train neural networks, we can change their parameters $\\theta$ in a way to minimize a loss function. In order to decide what weight changes would best minimize the loss function, we calculate the gradient of the loss with respect to the parameters, which indicates the direction of steepest ascent.\n",
        "\n",
        "Thus, we subtract the gradient scaled by some learning rate/scaling factor $\\alpha$ and we arrive at the formula for gradient descent.\n",
        "\n",
        "$$\\theta_t = \\theta_{t-1} - \\alpha \\nabla L(\\theta_{t-1})$$\n",
        "\n",
        "<br>\n",
        "\n",
        "Though this formula might be very familiar, it does not represent specifically the procedure of Stochastic Gradient Descent, which is more accurate in describing the way deep networks are trained.\n",
        "\n",
        "<br>\n",
        "\n",
        "Standard \"batch\" gradient descent refers to evaluating the entire dataset and averaging the calculated gradients to update the weights. This is not used to train networks as not only is it very expensive to evaluate the gradient on the entire dataset for every iteration, this also generally leads the network to solutions that overfit and do not generalize.\n",
        "\n",
        "Stochastic gradient descent is where random subsets, \"mini-batches\", of the training data are chosen to approximate the true gradient. Though it would increase stochasticity and decrease compute time to evaluate the gradient on single examples, the variance of gradient between single examples generally prevents the network from converging to neither quick nor effective solutions. Thus, the mini-batch size remains an important parameter that can make significant differences in the convergence, training time, or generalization of the network for non-trivial tasks.\n",
        "\n",
        "## Learn how to Implement an Optimizer\n",
        "Read the implementation below to see how to implement an optimizer. Notice that we are using  `parameters.assign` to update the parameters."
      ]
    },
    {
      "cell_type": "code",
      "metadata": {
        "id": "9hv7v8vThkxA"
      },
      "source": [
        "# Tensorflow implementation of SGD\n",
        "print(optimize(tf.keras.optimizers.SGD(learning_rate=0.0001)))\n",
        "\n",
        "# Your implementation of SGD\n",
        "class SGD:\n",
        "  def __init__(self, learning_rate):\n",
        "    self.learning_rate = learning_rate\n",
        "\n",
        "  def apply_gradients(self, grads_and_vars):\n",
        "    gradients, parameters = grads_and_vars[0]\n",
        "    parameters.assign(parameters - gradients*self.learning_rate)\n",
        "\n",
        "print(optimize(SGD(0.0001)))"
      ],
      "execution_count": null,
      "outputs": []
    },
    {
      "cell_type": "markdown",
      "metadata": {
        "id": "_tY-p8BKkKRP"
      },
      "source": [
        "## [TODO] Gradient Descent With Momentum\n",
        "\n",
        "Gradient descent can easily find the valley of the Rosenbrock function, but since the magnitude of the gradient is so low along the valley, gradient descent gets stuck.\n",
        "\n",
        "With momentum, the parameters move by some fraction of the previous step along with the current gradient. This is similar to how a ball rolling down a hill will speed up over time.\n",
        "\n",
        "\n",
        "$$v_t = \\lambda v_{t-1} + \\alpha \\nabla L(\\theta)$$\n",
        "\n",
        "$$\\theta_t = \\theta_{t-1} - v_t$$\n",
        "\n",
        "An additional variable $v$ is used to keep track of the velocity. When $\\lambda = 0$, it's as if the ball is rolling on a frictionless surface, since it will keep all of it's previous velocity. A typical value for $\\lambda$ is $0.9$.\n",
        "\n",
        "## [TODO] Implement Gradient Descent with Momentum\n",
        "Implement gradient descent with momentum below. Check to see that your implementation matches the TensorFlow implementation."
      ]
    },
    {
      "cell_type": "code",
      "metadata": {
        "id": "L0OYcwi_h24q"
      },
      "source": [
        "learning_rate = 0.00001\n",
        "lambda_ = 0.9\n",
        "\n",
        "# Tensorflow implementation of SGD with momentum\n",
        "print(optimize(tf.keras.optimizers.SGD(learning_rate=learning_rate, momentum=lambda_)))\n",
        "\n",
        "\n",
        "# Your implementation of SGD with momentum\n",
        "class SGDMomentum:\n",
        "  def __init__(self, learning_rate):\n",
        "    self.learning_rate = learning_rate\n",
        "    self.v = 0  # Zero vector for velocity\n",
        "    self.lambda_ = lambda_\n",
        "\n",
        "  def apply_gradients(self, grads_and_vars):\n",
        "    gradients, parameters = grads_and_vars[0]\n",
        "\n",
        "    # TODO: Implement\n",
        "    self.v = ?\n",
        "    parameters.assign(?)\n",
        "\n",
        "print(optimize(SGDMomentum(learning_rate=learning_rate)))"
      ],
      "execution_count": null,
      "outputs": []
    },
    {
      "cell_type": "markdown",
      "metadata": {
        "id": "WW4GI6BU2JlY"
      },
      "source": [
        "## [TODO] RMSProp\n",
        "\n",
        "RMSProp is similar to Adagrad, but seeks to solve the problem of the decaying learning rate. Instead of storing a sum of all of the past squared gradients, RMSprop keeps a exponentially decaying running average:\n",
        "\n",
        "The running average is updated as follows:\n",
        "$$ g_t^{(i)} =  \\rho g_{t-1}^{(i)} + (1 - \\rho)\\Big(\\frac{\\partial}{\\partial \\theta^{(i)}}L(\\theta_{t-1})\\Big)^2 $$\n",
        "\n",
        "Then, the parameter update is the same as for Adagrad. Dividing the learning rate by this exponential average will cause the learning to speed up in directions with lower gradients. This is what we want when navigating the valley of the Rosenbrock function.\n",
        "\n",
        "$$\n",
        "\\theta_t^{(i)} = \\theta_{t-1}^{(i)} - \\frac{\\alpha}{\\sqrt{g^{(i)}_t} + \\epsilon} * \\frac{\\partial}{\\partial\\theta^{(i)}}L(\\theta_{t-1})\n",
        "$$\n",
        "\n",
        "## [TODO] Implement RMSProp\n",
        "Implement RMSprop below, and check to see that your implementation matches the TensorFlow implementation:"
      ]
    },
    {
      "cell_type": "code",
      "metadata": {
        "id": "mwRUGK622LcF"
      },
      "source": [
        "# Tensorflow implementation of RMSprop\n",
        "print(optimize(tf.keras.optimizers.RMSprop(learning_rate=0.01)))\n",
        "\n",
        "# Your implementation of RMS prop\n",
        "class RMSprop:\n",
        "  def __init__(self, learning_rate):\n",
        "    self.learning_rate = learning_rate\n",
        "    self.epsilon = 1e-7\n",
        "    self.rho = 0.9  # Scaling factor for exponential average\n",
        "    self.mean_square = 0  # Zero vector\n",
        "\n",
        "  def apply_gradients(self, grads_and_vars):\n",
        "    gradients, parameters = grads_and_vars[0]\n",
        "\n",
        "    # TODO: Implement\n",
        "    self.mean_square = ?\n",
        "    parameters.assign(?)\n",
        "\n",
        "print(optimize(RMSprop(learning_rate=0.01)))\n"
      ],
      "execution_count": null,
      "outputs": []
    },
    {
      "cell_type": "markdown",
      "metadata": {
        "id": "gcxe6QPd2PC4"
      },
      "source": [
        "## [TODO] Adam (Adaptive Moment Estimation) Optimizer\n",
        "\n",
        "Adam is an iteration of previous algorithms which tries to estimate the first and second moments of the gradients.\n",
        "\n",
        "The first moment is the expected value of the gradients, and the second moment is the expected value of the square of the gradients. Adam uses exponentially decaying averages to estimate these moments based on past gradients. $\\beta_1$ and $\\beta_2$ are the scaling factors for the exponential average, and the default values are $\\beta_1=0.9$ and $\\beta_2=0.999$.\n",
        "\n",
        "$$m^{(i)}_t = \\beta_1 m_{t-1} + (1 - \\beta_1) \\Big(\\frac{\\partial}{\\partial \\theta^{(i)}}L(\\theta_{t-1})\\Big)$$\n",
        "$$v^{(i)}_t = \\beta_2 v_{t-1} + (1 - \\beta_2) \\Big(\\frac{\\partial}{\\partial \\theta^{(i)}}L(\\theta_{t-1})\\Big)^2$$\n",
        "\n",
        "However, these estimates are biased towards 0, so Adam scales them as follows:\n",
        "\n",
        "$$\\hat{m} = \\frac{m}{1-\\beta_1^t}$$\n",
        "\n",
        "$$\\hat{v} = \\frac{v}{1-\\beta_2^t}$$\n",
        "\n",
        "(*Note:* the $t$ in the denominators of $\\hat{m}$ and $\\hat{v}$ is an exponentiation.)\n",
        "\n",
        "The parameter update for Adam is then:\n",
        "\n",
        "$$ \\theta_t^{(i)} = \\theta_{t-1}^{(i)} - \\alpha * \\frac{\\hat{m}^{(i)}_t}{\\sqrt{\\hat{v}^{(i)}_t} + \\epsilon} $$\n",
        "\n",
        "Notice that the first moment is similar to the momentum in SGD with momentum, and the second moment is similar to the sum of squared gradients in RMSprop.\n",
        "\n",
        "## [TODO] Implement Adam Optimizer\n",
        "Implement Adam below, and check to see that your implementation matches the TensorFlow implementation."
      ]
    },
    {
      "cell_type": "code",
      "metadata": {
        "id": "6Y7ZBG3H2Rx1"
      },
      "source": [
        "print(optimize(tf.keras.optimizers.Adam(learning_rate=0.3)))\n",
        "\n",
        "# Your implementation of Adam\n",
        "class Adam:\n",
        "  def __init__(self, learning_rate):\n",
        "    self.learning_rate = learning_rate\n",
        "    self.epsilon = 1e-7\n",
        "    self.beta_1 = 0.9\n",
        "    self.beta_2 = 0.999\n",
        "\n",
        "    self.m = 0  # First moment zero vector\n",
        "    self.v = 0  # Second moment zero vector.\n",
        "    self.t = 0  # Time counter\n",
        "\n",
        "  def apply_gradients(self, grads_and_vars):\n",
        "    gradients, parameters = grads_and_vars[0]\n",
        "    self.t += 1\n",
        "\n",
        "    # TODO: Implement\n",
        "    self.m = ?\n",
        "    self.v = ?\n",
        "\n",
        "    # TODO: Compute m_hat and v_hat\n",
        "    parameters.assign(?)\n",
        "\n",
        "print(optimize(Adam(learning_rate=0.3)))\n"
      ],
      "execution_count": null,
      "outputs": []
    }
  ]
}